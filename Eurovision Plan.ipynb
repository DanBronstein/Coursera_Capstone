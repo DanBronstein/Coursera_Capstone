{
 "cells": [
  {
   "cell_type": "markdown",
   "metadata": {},
   "source": [
    "# What types of cities make the best singers?\n",
    "\n",
    "## Introduction / Business Problem\n",
    "\n",
    "### The Eurovision contest brings together amateur singers from around Europe and beyond. Some countries consistently perform well, and some perennially struggle. It’s an opportunity to launch or destroy a singing career, and no one has ever (to our knowledge) exhausted the infinite power of Foursquare and Folium to determine where to move as a budding singer of the future. \n",
    "\n",
    "### Focusing on the capital cities of the entrants for the past 20 contests, and considering the point scores of the various entrants, we want to work out what kind of factors make these cities great (or awful) places to learn to sing. We’ll point to a conclusion on where is most promising as a destination for a new singer.\n",
    "\n",
    "### The intended audience is young, aspiring singers who are choosing a place in Europe to live, to maximise their chances of winning the Eurovision contest in a decade’s time. Can we help make their dreams a reality? Or will they receive nil pois?\n",
    "\n",
    "\n",
    "## Data\n",
    "\n",
    "### > Historic granular Eurovision points data will be used to identify the relative success of entrants from different cities over time\n",
    "### > Geospatial data relating to city location will be used to pinpoint cities and neighbourhoods\n",
    "### > Foursquare data will be key in understanding the composition and environment of the diverse cities we will study, and to identify what factors may impact an aspiring musician\n",
    "### > We may also decide to use demographic and economic data as potentially influential factors in the emergence of some cities as hotbeds of singing talent\n",
    "### > If available we will also seek to use data on musical taste between various cities and countries – and consider whether this means certain countries have a structural advantage\n"
   ]
  },
  {
   "cell_type": "code",
   "execution_count": null,
   "metadata": {},
   "outputs": [],
   "source": []
  }
 ],
 "metadata": {
  "kernelspec": {
   "display_name": "Python 3",
   "language": "python",
   "name": "python3"
  },
  "language_info": {
   "codemirror_mode": {
    "name": "ipython",
    "version": 3
   },
   "file_extension": ".py",
   "mimetype": "text/x-python",
   "name": "python",
   "nbconvert_exporter": "python",
   "pygments_lexer": "ipython3",
   "version": "3.6.5"
  }
 },
 "nbformat": 4,
 "nbformat_minor": 2
}
